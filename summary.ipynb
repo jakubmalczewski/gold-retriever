{
 "cells": [
  {
   "cell_type": "code",
   "execution_count": 13,
   "metadata": {},
   "outputs": [],
   "source": [
    "import pickle\n",
    "import numpy as np\n",
    "import datascience as ds\n",
    "from matplotlib import pyplot as plt\n",
    "import os"
   ]
  },
  {
   "cell_type": "code",
   "execution_count": 14,
   "metadata": {},
   "outputs": [],
   "source": [
    "dataDir = './data/mesh'"
   ]
  },
  {
   "cell_type": "code",
   "execution_count": 15,
   "metadata": {},
   "outputs": [],
   "source": [
    "field = np.zeros((30,30))\n",
    "hits = np.zeros((30,30))\n",
    "\n",
    "for fileName in os.listdir(dataDir):\n",
    "    with open(dataDir + \"/\" + fileName, \"br\") as file:\n",
    "        game = pickle.load(file)\n",
    "    # plt.imshow(game[\"field\"])\n",
    "    \n",
    "    for dig_loc in game[\"loc_hist\"]:\n",
    "        hits[dig_loc//30, dig_loc%30] += 1\n",
    "    field += game[\"field\"]\n",
    "    # plt.show()\n",
    "    "
   ]
  },
  {
   "cell_type": "code",
   "execution_count": 20,
   "metadata": {},
   "outputs": [
    {
     "name": "stderr",
     "output_type": "stream",
     "text": [
      "/tmp/ipykernel_47517/738386615.py:3: RuntimeWarning: invalid value encountered in divide\n",
      "  plt.imshow(field/hits)\n"
     ]
    },
    {
     "data": {
      "text/plain": [
       "<matplotlib.image.AxesImage at 0x7f7518b33a60>"
      ]
     },
     "execution_count": 20,
     "metadata": {},
     "output_type": "execute_result"
    },
    {
     "data": {
      "image/png": "[encoded data removed]",
      "text/plain": [
       "<Figure size 640x480 with 1 Axes>"
      ]
     },
     "metadata": {},
     "output_type": "display_data"
    }
   ],
   "source": [
    "%matplotlib inline\n",
    "\n",
    "plt.imshow(field/hits)\n",
    "plt.imshow(hits, cmap=\"tab10\")\n"
   ]
  },
  {
   "cell_type": "code",
   "execution_count": 3,
   "metadata": {},
   "outputs": [],
   "source": [
    "%matplotlib inline"
   ]
  },
  {
   "cell_type": "code",
   "execution_count": null,
   "metadata": {},
   "outputs": [],
   "source": []
  }
 ],
 "metadata": {
  "kernelspec": {
   "display_name": "Python 3.10.5 ('venv': venv)",
   "language": "python",
   "name": "python3"
  },
  "language_info": {
   "codemirror_mode": {
    "name": "ipython",
    "version": 3
   },
   "file_extension": ".py",
   "mimetype": "text/x-python",
   "name": "python",
   "nbconvert_exporter": "python",
   "pygments_lexer": "ipython3",
   "version": "3.10.5"
  },
  "orig_nbformat": 4,
  "vscode": {
   "interpreter": {
    "hash": "6311575b74036ece43688f2d2c3710df4efb99fa1194d0d6b3bd742b2cf3ba57"
   }
  }
 },
 "nbformat": 4,
 "nbformat_minor": 2
}
